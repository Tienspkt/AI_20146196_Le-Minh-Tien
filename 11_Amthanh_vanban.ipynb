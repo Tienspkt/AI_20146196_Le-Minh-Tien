{
  "nbformat": 4,
  "nbformat_minor": 0,
  "metadata": {
    "colab": {
      "provenance": [],
      "mount_file_id": "1kxP6R-flmSX824_f2KrwIMkR7hXDp8MB",
      "authorship_tag": "ABX9TyONwPepG5BjSL9IHge6LTYj",
      "include_colab_link": true
    },
    "kernelspec": {
      "name": "python3",
      "display_name": "Python 3"
    },
    "language_info": {
      "name": "python"
    }
  },
  "cells": [
    {
      "cell_type": "markdown",
      "metadata": {
        "id": "view-in-github",
        "colab_type": "text"
      },
      "source": [
        "<a href=\"https://colab.research.google.com/github/Tienspkt/AI_20146196_Le-Minh-Tien/blob/main/11_Amthanh_vanban.ipynb\" target=\"_parent\"><img src=\"https://colab.research.google.com/assets/colab-badge.svg\" alt=\"Open In Colab\"/></a>"
      ]
    },
    {
      "cell_type": "code",
      "execution_count": 1,
      "metadata": {
        "colab": {
          "base_uri": "https://localhost:8080/"
        },
        "id": "mAaUaPmO5Ufr",
        "outputId": "82034afb-6960-4d70-9b08-e5cf9a01a8ef"
      },
      "outputs": [
        {
          "output_type": "stream",
          "name": "stdout",
          "text": [
            "Looking in indexes: https://pypi.org/simple, https://us-python.pkg.dev/colab-wheels/public/simple/\n",
            "Collecting youtube-search\n",
            "  Downloading youtube_search-2.1.2-py3-none-any.whl (3.4 kB)\n",
            "Requirement already satisfied: requests in /usr/local/lib/python3.9/dist-packages (from youtube-search) (2.27.1)\n",
            "Requirement already satisfied: urllib3<1.27,>=1.21.1 in /usr/local/lib/python3.9/dist-packages (from requests->youtube-search) (1.26.15)\n",
            "Requirement already satisfied: certifi>=2017.4.17 in /usr/local/lib/python3.9/dist-packages (from requests->youtube-search) (2022.12.7)\n",
            "Requirement already satisfied: idna<4,>=2.5 in /usr/local/lib/python3.9/dist-packages (from requests->youtube-search) (3.4)\n",
            "Requirement already satisfied: charset-normalizer~=2.0.0 in /usr/local/lib/python3.9/dist-packages (from requests->youtube-search) (2.0.12)\n",
            "Installing collected packages: youtube-search\n",
            "Successfully installed youtube-search-2.1.2\n"
          ]
        }
      ],
      "source": [
        "pip install youtube-search"
      ]
    },
    {
      "cell_type": "code",
      "source": [
        "from youtube_search import YoutubeSearch\n",
        "import webbrowser\n",
        "mysong = input('nhap vao ten bai hat can tim')\n",
        "result = YoutubeSearch(mysong, max_results= 10).to_dict()\n",
        "print(result)"
      ],
      "metadata": {
        "colab": {
          "base_uri": "https://localhost:8080/"
        },
        "id": "EB4lvRpp9XuK",
        "outputId": "c6bdffef-7d54-4b95-da33-5dc1f00227c0"
      },
      "execution_count": 2,
      "outputs": [
        {
          "output_type": "stream",
          "name": "stdout",
          "text": [
            "nhap vao ten bai hat can timsong cho het doi thanh xuan\n",
            "[{'id': 'mmuBhumw4Nk', 'thumbnails': ['https://i.ytimg.com/vi/mmuBhumw4Nk/hq720.jpg?sqp=-oaymwEjCOgCEMoBSFryq4qpAxUIARUAAAAAGAElAADIQj0AgKJDeAE=&rs=AOn4CLDstClnw8l0bdU2CtvRB53M2HCa0w', 'https://i.ytimg.com/vi/mmuBhumw4Nk/hq720.jpg?sqp=-oaymwEXCNAFEJQDSFryq4qpAwkIARUAAIhCGAE=&rs=AOn4CLD5E2dDLWVgn0LEkDjzVJP-A-1tWw'], 'title': 'SỐNG CHO HẾT ĐỜI THANH XUÂN | MUSIC VIDEO | Dick x Xám x Tuyết', 'long_desc': None, 'channel': 'BẠN CÓ TÀI MÀ', 'duration': '6:51', 'views': '34.212.520 weergaven', 'publish_time': '4 jaar geleden', 'url_suffix': '/watch?v=mmuBhumw4Nk&pp=ygUbc29uZyBjaG8gaGV0IGRvaSB0aGFuaCB4dWFu'}, {'id': 'H96ceHhGtD8', 'thumbnails': ['https://i.ytimg.com/vi/H96ceHhGtD8/hq720.jpg?sqp=-oaymwEjCOgCEMoBSFryq4qpAxUIARUAAAAAGAElAADIQj0AgKJDeAE=&rs=AOn4CLBSEZ9RmT40vfvRI2MrRnjWCm0A_w', 'https://i.ytimg.com/vi/H96ceHhGtD8/hq720.jpg?sqp=-oaymwEXCNAFEJQDSFryq4qpAwkIARUAAIhCGAE=&rs=AOn4CLBHqj1uIe-HZrXhQSJdacJ11ZjXaQ'], 'title': 'SỐNG CHO HẾT ĐỜI THANH XUÂN 2 - BCTM x TNS  ( Official Music Video )', 'long_desc': None, 'channel': 'BẠN CÓ TÀI MÀ', 'duration': '9:11', 'views': '25.398.311 weergaven', 'publish_time': '3 jaar geleden', 'url_suffix': '/watch?v=H96ceHhGtD8&pp=ygUbc29uZyBjaG8gaGV0IGRvaSB0aGFuaCB4dWFu'}, {'id': 'KVHimR1vf0o', 'thumbnails': ['https://i.ytimg.com/vi/KVHimR1vf0o/hq720.jpg?sqp=-oaymwEjCOgCEMoBSFryq4qpAxUIARUAAAAAGAElAADIQj0AgKJDeAE=&rs=AOn4CLAYN1RT3xFHfoEN8MhauuD0Iu7jEQ', 'https://i.ytimg.com/vi/KVHimR1vf0o/hq720.jpg?sqp=-oaymwEXCNAFEJQDSFryq4qpAwkIARUAAIhCGAE=&rs=AOn4CLDWbMYcoZE_RWCwTXxmA1aEyCR56g'], 'title': 'SỐNG CHO HẾT ĐỜI THANH XUÂN 3 - BCTM x TNS ( Official Music Video ) Prod .HPro', 'long_desc': None, 'channel': 'BẠN CÓ TÀI MÀ', 'duration': '19:29', 'views': '7.854.559 weergaven', 'publish_time': '2 jaar geleden', 'url_suffix': '/watch?v=KVHimR1vf0o&pp=ygUbc29uZyBjaG8gaGV0IGRvaSB0aGFuaCB4dWFu'}, {'id': 'lqQZnvSgLHc', 'thumbnails': ['https://i.ytimg.com/vi/lqQZnvSgLHc/hq720.jpg?sqp=-oaymwEjCOgCEMoBSFryq4qpAxUIARUAAAAAGAElAADIQj0AgKJDeAE=&rs=AOn4CLBbVZa0kXsQuUKf2CEItbqu_9xPxw', 'https://i.ytimg.com/vi/lqQZnvSgLHc/hq720.jpg?sqp=-oaymwEXCNAFEJQDSFryq4qpAwkIARUAAIhCGAE=&rs=AOn4CLDu2NJBpzlYAKrc9L70pSKhLUdmSw'], 'title': 'SỐNG CHO HẾT ĐỜI THANH XUÂN FULL 1, 2, 3 - BCTN x TNS ( Prod .HPro ) / Bạn Có Tài Mà | HENRY MUSIC', 'long_desc': None, 'channel': 'HENRY MUSIC ♪', 'duration': '21:19', 'views': '379.948 weergaven', 'publish_time': '1 jaar geleden', 'url_suffix': '/watch?v=lqQZnvSgLHc&pp=ygUbc29uZyBjaG8gaGV0IGRvaSB0aGFuaCB4dWFu'}, {'id': 'eMW9ZxXxCHI', 'thumbnails': ['https://i.ytimg.com/vi/eMW9ZxXxCHI/hq720.jpg?sqp=-oaymwEjCOgCEMoBSFryq4qpAxUIARUAAAAAGAElAADIQj0AgKJDeAE=&rs=AOn4CLAtbb66Fmb-66wNEq6vsXLWFMCbmw', 'https://i.ytimg.com/vi/eMW9ZxXxCHI/hq720.jpg?sqp=-oaymwEXCNAFEJQDSFryq4qpAwkIARUAAIhCGAE=&rs=AOn4CLBuyyZ3B2v7baLM-HT-Cu5ct1xznA'], 'title': 'ANH ĐÃ LỚN HƠN THẾ NHIỀU  - Dick ft. Michelle Ngn  ( Official Music Video )', 'long_desc': None, 'channel': 'BẠN CÓ TÀI MÀ', 'duration': '6:28', 'views': '8.351.163 weergaven', 'publish_time': '2 jaar geleden', 'url_suffix': '/watch?v=eMW9ZxXxCHI&pp=ygUbc29uZyBjaG8gaGV0IGRvaSB0aGFuaCB4dWFu'}, {'id': 'vTZftoX8neM', 'thumbnails': ['https://i.ytimg.com/vi/vTZftoX8neM/hq720.jpg?sqp=-oaymwEjCOgCEMoBSFryq4qpAxUIARUAAAAAGAElAADIQj0AgKJDeAE=&rs=AOn4CLAGSMKd8yZo8X7E19iaKdo_dLdBpQ', 'https://i.ytimg.com/vi/vTZftoX8neM/hq720.jpg?sqp=-oaymwEXCNAFEJQDSFryq4qpAwkIARUAAIhCGAE=&rs=AOn4CLB-DJ5VuJcrd38Z2qWNnDfIZ62YDQ'], 'title': 'Sống cho hết đời thanh xuân - dick ft xám (Bài hát mà nhất định phải nghe khi trưởng thành).', 'long_desc': None, 'channel': 'RonLove', 'duration': '5:30', 'views': '35.872 weergaven', 'publish_time': '4 jaar geleden', 'url_suffix': '/watch?v=vTZftoX8neM&pp=ygUbc29uZyBjaG8gaGV0IGRvaSB0aGFuaCB4dWFu'}, {'id': 'Oz8RF_1eGxw', 'thumbnails': ['https://i.ytimg.com/vi/Oz8RF_1eGxw/hq720.jpg?sqp=-oaymwEjCOgCEMoBSFryq4qpAxUIARUAAAAAGAElAADIQj0AgKJDeAE=&rs=AOn4CLDnqfrfahnf-P3Ucqi8crRquiL94Q', 'https://i.ytimg.com/vi/Oz8RF_1eGxw/hq720.jpg?sqp=-oaymwEXCNAFEJQDSFryq4qpAwkIARUAAIhCGAE=&rs=AOn4CLBWhrD7pYXqzCjZ3Fc1Buk3mlLdeg'], 'title': 'TRƯỚC KHI TUỔI TRẺ NÀY ĐÓNG LỐI | Ngắn x Xám x Dick | \"Đà Lạt\" Ep3 ( Directed by Nguyễn Nhật Trung )', 'long_desc': None, 'channel': 'BẠN CÓ TÀI MÀ', 'duration': '5:49', 'views': '11.188.439 weergaven', 'publish_time': '1 jaar geleden', 'url_suffix': '/watch?v=Oz8RF_1eGxw&pp=ygUbc29uZyBjaG8gaGV0IGRvaSB0aGFuaCB4dWFu'}, {'id': 'BeurKqn5zQk', 'thumbnails': ['https://i.ytimg.com/vi/BeurKqn5zQk/hq720.jpg?sqp=-oaymwEjCOgCEMoBSFryq4qpAxUIARUAAAAAGAElAADIQj0AgKJDeAE=&rs=AOn4CLDZSYn5PC_olkH5Bx7ce5EJsHkPgQ', 'https://i.ytimg.com/vi/BeurKqn5zQk/hq720.jpg?sqp=-oaymwEXCNAFEJQDSFryq4qpAwkIARUAAIhCGAE=&rs=AOn4CLArq4qHCVQxceGskEOe0yjTGZ7RBw'], 'title': 'SỐNG CHO HẾT ĐỜI THANH XUÂN - LIVE', 'long_desc': None, 'channel': 'BẠN CÓ TÀI MÀ', 'duration': '5:14', 'views': '785.178 weergaven', 'publish_time': '4 jaar geleden', 'url_suffix': '/watch?v=BeurKqn5zQk&pp=ygUbc29uZyBjaG8gaGV0IGRvaSB0aGFuaCB4dWFu'}, {'id': 'V1neb4ypfrY', 'thumbnails': ['https://i.ytimg.com/vi/V1neb4ypfrY/hq720.jpg?sqp=-oaymwEjCOgCEMoBSFryq4qpAxUIARUAAAAAGAElAADIQj0AgKJDeAE=&rs=AOn4CLAPGfCEcuWIXJUsrGrG6WMNjQnUtg', 'https://i.ytimg.com/vi/V1neb4ypfrY/hq720.jpg?sqp=-oaymwEXCNAFEJQDSFryq4qpAwkIARUAAIhCGAE=&rs=AOn4CLCOGmju0QyYic8_A33T4c8LGoYw_A'], 'title': 'Xám x Mer live \"SỐNG CHO HẾT ĐỜI THANH XUÂN\" | Rap Session #18', 'long_desc': None, 'channel': 'M.A.D Production', 'duration': '2:32', 'views': '248.857 weergaven', 'publish_time': '2 jaar geleden', 'url_suffix': '/watch?v=V1neb4ypfrY&pp=ygUbc29uZyBjaG8gaGV0IGRvaSB0aGFuaCB4dWFu'}, {'id': 'sK17eMaPo0Y', 'thumbnails': ['https://i.ytimg.com/vi/sK17eMaPo0Y/hq720.jpg?sqp=-oaymwEjCOgCEMoBSFryq4qpAxUIARUAAAAAGAElAADIQj0AgKJDeAE=&rs=AOn4CLDIjCQQc1n42ai1nvMlmuEl88FXHQ', 'https://i.ytimg.com/vi/sK17eMaPo0Y/hq720.jpg?sqp=-oaymwEXCNAFEJQDSFryq4qpAwkIARUAAIhCGAE=&rs=AOn4CLBdv2JDuINYc3qeSEjjwyK-wu5ktw'], 'title': '6H CHILL  - BẠN CÓ TÀI MÀ (Official Music Video) ( prod. HPro )', 'long_desc': None, 'channel': 'BẠN CÓ TÀI MÀ', 'duration': '6:26', 'views': '9.824.905 weergaven', 'publish_time': '2 jaar geleden', 'url_suffix': '/watch?v=sK17eMaPo0Y&pp=ygUbc29uZyBjaG8gaGV0IGRvaSB0aGFuaCB4dWFu'}]\n"
          ]
        }
      ]
    },
    {
      "cell_type": "code",
      "source": [
        "for i in range (10):\n",
        "  url = 'http://www.youtube.com'+ result[i]['url_suffix']\n",
        "  print(url)\n",
        "# webbrowser(url) ## chay tren may tinh pycharm moi dc \n",
        " "
      ],
      "metadata": {
        "colab": {
          "base_uri": "https://localhost:8080/"
        },
        "id": "d83y12Kt-gWK",
        "outputId": "4411890d-b021-4f45-b6bb-0e2344da14ed"
      },
      "execution_count": 10,
      "outputs": [
        {
          "output_type": "stream",
          "name": "stdout",
          "text": [
            "http://www.youtube.com/watch?v=mmuBhumw4Nk&pp=ygUbc29uZyBjaG8gaGV0IGRvaSB0aGFuaCB4dWFu\n",
            "http://www.youtube.com/watch?v=H96ceHhGtD8&pp=ygUbc29uZyBjaG8gaGV0IGRvaSB0aGFuaCB4dWFu\n",
            "http://www.youtube.com/watch?v=KVHimR1vf0o&pp=ygUbc29uZyBjaG8gaGV0IGRvaSB0aGFuaCB4dWFu\n",
            "http://www.youtube.com/watch?v=lqQZnvSgLHc&pp=ygUbc29uZyBjaG8gaGV0IGRvaSB0aGFuaCB4dWFu\n",
            "http://www.youtube.com/watch?v=eMW9ZxXxCHI&pp=ygUbc29uZyBjaG8gaGV0IGRvaSB0aGFuaCB4dWFu\n",
            "http://www.youtube.com/watch?v=vTZftoX8neM&pp=ygUbc29uZyBjaG8gaGV0IGRvaSB0aGFuaCB4dWFu\n",
            "http://www.youtube.com/watch?v=Oz8RF_1eGxw&pp=ygUbc29uZyBjaG8gaGV0IGRvaSB0aGFuaCB4dWFu\n",
            "http://www.youtube.com/watch?v=BeurKqn5zQk&pp=ygUbc29uZyBjaG8gaGV0IGRvaSB0aGFuaCB4dWFu\n",
            "http://www.youtube.com/watch?v=V1neb4ypfrY&pp=ygUbc29uZyBjaG8gaGV0IGRvaSB0aGFuaCB4dWFu\n",
            "http://www.youtube.com/watch?v=sK17eMaPo0Y&pp=ygUbc29uZyBjaG8gaGV0IGRvaSB0aGFuaCB4dWFu\n"
          ]
        }
      ]
    },
    {
      "cell_type": "code",
      "source": [
        "pip install openpyxl"
      ],
      "metadata": {
        "colab": {
          "base_uri": "https://localhost:8080/"
        },
        "id": "ieoduXpJAJqy",
        "outputId": "b7038184-08c3-496d-fe0e-1f25bb985763"
      },
      "execution_count": 11,
      "outputs": [
        {
          "output_type": "stream",
          "name": "stdout",
          "text": [
            "Looking in indexes: https://pypi.org/simple, https://us-python.pkg.dev/colab-wheels/public/simple/\n",
            "Requirement already satisfied: openpyxl in /usr/local/lib/python3.9/dist-packages (3.0.10)\n",
            "Requirement already satisfied: et-xmlfile in /usr/local/lib/python3.9/dist-packages (from openpyxl) (1.1.0)\n"
          ]
        }
      ]
    },
    {
      "cell_type": "code",
      "source": [
        "from youtube_search import YoutubeSearch\n",
        "import webbrowser\n",
        "from openpyxl import Workbook\n",
        "mysong = input('nhap vao ten bai hat can tim')\n",
        "result = YoutubeSearch(mysong, max_results= 10).to_dict()\n",
        "print(result)\n",
        "data = Workbook()\n",
        "Sheet = data.active\n",
        "for i in range(10):\n",
        "  print(result[i]['title'])\n",
        "  print(result[i]['url_suffix'])\n",
        "  url = 'http://www.youtube.com'+ result[i]['url_suffix']\n",
        "  print(url)\n",
        "  Sheet['A' + str(i+1)]= i+1\n",
        "  Sheet['B' + str(i+1)]= result[i]['title']\n",
        "  Sheet['C' + str(i+1)]= result[i]['url_suffix']\n",
        "  Sheet['D' + str(i+1)]= result[i]['views']\n",
        "data.save('amthanh.xlxs')\n"
      ],
      "metadata": {
        "colab": {
          "base_uri": "https://localhost:8080/"
        },
        "id": "eXio-0zJAVjB",
        "outputId": "915e6b44-e91b-4203-92a7-6d9e4a3b34e1"
      },
      "execution_count": 18,
      "outputs": [
        {
          "output_type": "stream",
          "name": "stdout",
          "text": [
            "nhap vao ten bai hat can timsong cho het doi thanh xuan\n",
            "[{'id': 'mmuBhumw4Nk', 'thumbnails': ['https://i.ytimg.com/vi/mmuBhumw4Nk/hq720.jpg?sqp=-oaymwEjCOgCEMoBSFryq4qpAxUIARUAAAAAGAElAADIQj0AgKJDeAE=&rs=AOn4CLDstClnw8l0bdU2CtvRB53M2HCa0w', 'https://i.ytimg.com/vi/mmuBhumw4Nk/hq720.jpg?sqp=-oaymwEXCNAFEJQDSFryq4qpAwkIARUAAIhCGAE=&rs=AOn4CLD5E2dDLWVgn0LEkDjzVJP-A-1tWw'], 'title': 'SỐNG CHO HẾT ĐỜI THANH XUÂN | MUSIC VIDEO | Dick x Xám x Tuyết', 'long_desc': None, 'channel': 'BẠN CÓ TÀI MÀ', 'duration': '6:51', 'views': '34.212.719 weergaven', 'publish_time': '4 jaar geleden', 'url_suffix': '/watch?v=mmuBhumw4Nk&pp=ygUbc29uZyBjaG8gaGV0IGRvaSB0aGFuaCB4dWFu'}, {'id': 'H96ceHhGtD8', 'thumbnails': ['https://i.ytimg.com/vi/H96ceHhGtD8/hq720.jpg?sqp=-oaymwEjCOgCEMoBSFryq4qpAxUIARUAAAAAGAElAADIQj0AgKJDeAE=&rs=AOn4CLBSEZ9RmT40vfvRI2MrRnjWCm0A_w', 'https://i.ytimg.com/vi/H96ceHhGtD8/hq720.jpg?sqp=-oaymwEXCNAFEJQDSFryq4qpAwkIARUAAIhCGAE=&rs=AOn4CLBHqj1uIe-HZrXhQSJdacJ11ZjXaQ'], 'title': 'SỐNG CHO HẾT ĐỜI THANH XUÂN 2 - BCTM x TNS  ( Official Music Video )', 'long_desc': None, 'channel': 'BẠN CÓ TÀI MÀ', 'duration': '9:11', 'views': '25.398.433 weergaven', 'publish_time': '3 jaar geleden', 'url_suffix': '/watch?v=H96ceHhGtD8&pp=ygUbc29uZyBjaG8gaGV0IGRvaSB0aGFuaCB4dWFu'}, {'id': 'KVHimR1vf0o', 'thumbnails': ['https://i.ytimg.com/vi/KVHimR1vf0o/hq720.jpg?sqp=-oaymwEjCOgCEMoBSFryq4qpAxUIARUAAAAAGAElAADIQj0AgKJDeAE=&rs=AOn4CLAYN1RT3xFHfoEN8MhauuD0Iu7jEQ', 'https://i.ytimg.com/vi/KVHimR1vf0o/hq720.jpg?sqp=-oaymwEXCNAFEJQDSFryq4qpAwkIARUAAIhCGAE=&rs=AOn4CLDWbMYcoZE_RWCwTXxmA1aEyCR56g'], 'title': 'SỐNG CHO HẾT ĐỜI THANH XUÂN 3 - BCTM x TNS ( Official Music Video ) Prod .HPro', 'long_desc': None, 'channel': 'BẠN CÓ TÀI MÀ', 'duration': '19:29', 'views': '7.854.606 weergaven', 'publish_time': '2 jaar geleden', 'url_suffix': '/watch?v=KVHimR1vf0o&pp=ygUbc29uZyBjaG8gaGV0IGRvaSB0aGFuaCB4dWFu'}, {'id': 'lqQZnvSgLHc', 'thumbnails': ['https://i.ytimg.com/vi/lqQZnvSgLHc/hq720.jpg?sqp=-oaymwEjCOgCEMoBSFryq4qpAxUIARUAAAAAGAElAADIQj0AgKJDeAE=&rs=AOn4CLBbVZa0kXsQuUKf2CEItbqu_9xPxw', 'https://i.ytimg.com/vi/lqQZnvSgLHc/hq720.jpg?sqp=-oaymwEXCNAFEJQDSFryq4qpAwkIARUAAIhCGAE=&rs=AOn4CLDu2NJBpzlYAKrc9L70pSKhLUdmSw'], 'title': 'SỐNG CHO HẾT ĐỜI THANH XUÂN FULL 1, 2, 3 - BCTN x TNS ( Prod .HPro ) / Bạn Có Tài Mà | HENRY MUSIC', 'long_desc': None, 'channel': 'HENRY MUSIC ♪', 'duration': '21:19', 'views': '379.992 weergaven', 'publish_time': '1 jaar geleden', 'url_suffix': '/watch?v=lqQZnvSgLHc&pp=ygUbc29uZyBjaG8gaGV0IGRvaSB0aGFuaCB4dWFu'}, {'id': 'eMW9ZxXxCHI', 'thumbnails': ['https://i.ytimg.com/vi/eMW9ZxXxCHI/hq720.jpg?sqp=-oaymwEjCOgCEMoBSFryq4qpAxUIARUAAAAAGAElAADIQj0AgKJDeAE=&rs=AOn4CLAtbb66Fmb-66wNEq6vsXLWFMCbmw', 'https://i.ytimg.com/vi/eMW9ZxXxCHI/hq720.jpg?sqp=-oaymwEXCNAFEJQDSFryq4qpAwkIARUAAIhCGAE=&rs=AOn4CLBuyyZ3B2v7baLM-HT-Cu5ct1xznA'], 'title': 'ANH ĐÃ LỚN HƠN THẾ NHIỀU  - Dick ft. Michelle Ngn  ( Official Music Video )', 'long_desc': None, 'channel': 'BẠN CÓ TÀI MÀ', 'duration': '6:28', 'views': '8.351.211 weergaven', 'publish_time': '2 jaar geleden', 'url_suffix': '/watch?v=eMW9ZxXxCHI&pp=ygUbc29uZyBjaG8gaGV0IGRvaSB0aGFuaCB4dWFu'}, {'id': 'Oz8RF_1eGxw', 'thumbnails': ['https://i.ytimg.com/vi/Oz8RF_1eGxw/hq720.jpg?sqp=-oaymwEjCOgCEMoBSFryq4qpAxUIARUAAAAAGAElAADIQj0AgKJDeAE=&rs=AOn4CLDnqfrfahnf-P3Ucqi8crRquiL94Q', 'https://i.ytimg.com/vi/Oz8RF_1eGxw/hq720.jpg?sqp=-oaymwEXCNAFEJQDSFryq4qpAwkIARUAAIhCGAE=&rs=AOn4CLBWhrD7pYXqzCjZ3Fc1Buk3mlLdeg'], 'title': 'TRƯỚC KHI TUỔI TRẺ NÀY ĐÓNG LỐI | Ngắn x Xám x Dick | \"Đà Lạt\" Ep3 ( Directed by Nguyễn Nhật Trung )', 'long_desc': None, 'channel': 'BẠN CÓ TÀI MÀ', 'duration': '5:49', 'views': '11.188.700 weergaven', 'publish_time': '1 jaar geleden', 'url_suffix': '/watch?v=Oz8RF_1eGxw&pp=ygUbc29uZyBjaG8gaGV0IGRvaSB0aGFuaCB4dWFu'}, {'id': 'BeurKqn5zQk', 'thumbnails': ['https://i.ytimg.com/vi/BeurKqn5zQk/hq720.jpg?sqp=-oaymwEjCOgCEMoBSFryq4qpAxUIARUAAAAAGAElAADIQj0AgKJDeAE=&rs=AOn4CLDZSYn5PC_olkH5Bx7ce5EJsHkPgQ', 'https://i.ytimg.com/vi/BeurKqn5zQk/hq720.jpg?sqp=-oaymwEXCNAFEJQDSFryq4qpAwkIARUAAIhCGAE=&rs=AOn4CLArq4qHCVQxceGskEOe0yjTGZ7RBw'], 'title': 'SỐNG CHO HẾT ĐỜI THANH XUÂN - LIVE', 'long_desc': None, 'channel': 'BẠN CÓ TÀI MÀ', 'duration': '5:14', 'views': '785.182 weergaven', 'publish_time': '4 jaar geleden', 'url_suffix': '/watch?v=BeurKqn5zQk&pp=ygUbc29uZyBjaG8gaGV0IGRvaSB0aGFuaCB4dWFu'}, {'id': 'xXIK9uO2Ge4', 'thumbnails': ['https://i.ytimg.com/vi/xXIK9uO2Ge4/hq720.jpg?sqp=-oaymwE9COgCEMoBSFryq4qpAy8IARUAAAAAGAElAADIQj0AgKJDeAHwAQH4AdQGgALgA4oCDAgAEAEYNSBPKHIwDw==&rs=AOn4CLBUls-nm0Y9W4ktvrSKRvKvWvqYMA', 'https://i.ytimg.com/vi/xXIK9uO2Ge4/hq720.jpg?sqp=-oaymwExCNAFEJQDSFryq4qpAyMIARUAAIhCGAHwAQH4AdQGgALgA4oCDAgAEAEYNSBPKHIwDw==&rs=AOn4CLDG0e4cV981YqOJx051spu846P7OA'], 'title': 'SỐNG CHO HẾT ĐỜI THANH XUÂN 3 - BCTM x TNS | Part 1 | Video lyric', 'long_desc': None, 'channel': 'Kha Beo', 'duration': '6:12', 'views': '29.266 weergaven', 'publish_time': '2 jaar geleden', 'url_suffix': '/watch?v=xXIK9uO2Ge4&pp=ygUbc29uZyBjaG8gaGV0IGRvaSB0aGFuaCB4dWFu'}, {'id': 'vTZftoX8neM', 'thumbnails': ['https://i.ytimg.com/vi/vTZftoX8neM/hq720.jpg?sqp=-oaymwEjCOgCEMoBSFryq4qpAxUIARUAAAAAGAElAADIQj0AgKJDeAE=&rs=AOn4CLAGSMKd8yZo8X7E19iaKdo_dLdBpQ', 'https://i.ytimg.com/vi/vTZftoX8neM/hq720.jpg?sqp=-oaymwEXCNAFEJQDSFryq4qpAwkIARUAAIhCGAE=&rs=AOn4CLB-DJ5VuJcrd38Z2qWNnDfIZ62YDQ'], 'title': 'Sống cho hết đời thanh xuân - dick ft xám (Bài hát mà nhất định phải nghe khi trưởng thành).', 'long_desc': None, 'channel': 'RonLove', 'duration': '5:30', 'views': '35.872 weergaven', 'publish_time': '4 jaar geleden', 'url_suffix': '/watch?v=vTZftoX8neM&pp=ygUbc29uZyBjaG8gaGV0IGRvaSB0aGFuaCB4dWFu'}, {'id': 'LqRnbpifBsE', 'thumbnails': ['https://i.ytimg.com/vi/LqRnbpifBsE/hq720.jpg?sqp=-oaymwEjCOgCEMoBSFryq4qpAxUIARUAAAAAGAElAADIQj0AgKJDeAE=&rs=AOn4CLC0OsfYd14shE0JSN5shb5_rTIb-Q', 'https://i.ytimg.com/vi/LqRnbpifBsE/hq720.jpg?sqp=-oaymwEXCNAFEJQDSFryq4qpAwkIARUAAIhCGAE=&rs=AOn4CLAuNf3XutlK1OlncsmidIM5hxXZPw'], 'title': '[Gangz Style] Sống Cho Hết Đời Thanh Xuân - DICK #BCTM (Bạn Có Tài Mà team)|Rap acoustic', 'long_desc': None, 'channel': 'YEAH1 MUSIC', 'duration': '5:33', 'views': '242.904 weergaven', 'publish_time': '4 jaar geleden', 'url_suffix': '/watch?v=LqRnbpifBsE&pp=ygUbc29uZyBjaG8gaGV0IGRvaSB0aGFuaCB4dWFu'}]\n",
            "SỐNG CHO HẾT ĐỜI THANH XUÂN | MUSIC VIDEO | Dick x Xám x Tuyết\n",
            "/watch?v=mmuBhumw4Nk&pp=ygUbc29uZyBjaG8gaGV0IGRvaSB0aGFuaCB4dWFu\n",
            "http://www.youtube.com/watch?v=mmuBhumw4Nk&pp=ygUbc29uZyBjaG8gaGV0IGRvaSB0aGFuaCB4dWFu\n",
            "SỐNG CHO HẾT ĐỜI THANH XUÂN 2 - BCTM x TNS  ( Official Music Video )\n",
            "/watch?v=H96ceHhGtD8&pp=ygUbc29uZyBjaG8gaGV0IGRvaSB0aGFuaCB4dWFu\n",
            "http://www.youtube.com/watch?v=H96ceHhGtD8&pp=ygUbc29uZyBjaG8gaGV0IGRvaSB0aGFuaCB4dWFu\n",
            "SỐNG CHO HẾT ĐỜI THANH XUÂN 3 - BCTM x TNS ( Official Music Video ) Prod .HPro\n",
            "/watch?v=KVHimR1vf0o&pp=ygUbc29uZyBjaG8gaGV0IGRvaSB0aGFuaCB4dWFu\n",
            "http://www.youtube.com/watch?v=KVHimR1vf0o&pp=ygUbc29uZyBjaG8gaGV0IGRvaSB0aGFuaCB4dWFu\n",
            "SỐNG CHO HẾT ĐỜI THANH XUÂN FULL 1, 2, 3 - BCTN x TNS ( Prod .HPro ) / Bạn Có Tài Mà | HENRY MUSIC\n",
            "/watch?v=lqQZnvSgLHc&pp=ygUbc29uZyBjaG8gaGV0IGRvaSB0aGFuaCB4dWFu\n",
            "http://www.youtube.com/watch?v=lqQZnvSgLHc&pp=ygUbc29uZyBjaG8gaGV0IGRvaSB0aGFuaCB4dWFu\n",
            "ANH ĐÃ LỚN HƠN THẾ NHIỀU  - Dick ft. Michelle Ngn  ( Official Music Video )\n",
            "/watch?v=eMW9ZxXxCHI&pp=ygUbc29uZyBjaG8gaGV0IGRvaSB0aGFuaCB4dWFu\n",
            "http://www.youtube.com/watch?v=eMW9ZxXxCHI&pp=ygUbc29uZyBjaG8gaGV0IGRvaSB0aGFuaCB4dWFu\n",
            "TRƯỚC KHI TUỔI TRẺ NÀY ĐÓNG LỐI | Ngắn x Xám x Dick | \"Đà Lạt\" Ep3 ( Directed by Nguyễn Nhật Trung )\n",
            "/watch?v=Oz8RF_1eGxw&pp=ygUbc29uZyBjaG8gaGV0IGRvaSB0aGFuaCB4dWFu\n",
            "http://www.youtube.com/watch?v=Oz8RF_1eGxw&pp=ygUbc29uZyBjaG8gaGV0IGRvaSB0aGFuaCB4dWFu\n",
            "SỐNG CHO HẾT ĐỜI THANH XUÂN - LIVE\n",
            "/watch?v=BeurKqn5zQk&pp=ygUbc29uZyBjaG8gaGV0IGRvaSB0aGFuaCB4dWFu\n",
            "http://www.youtube.com/watch?v=BeurKqn5zQk&pp=ygUbc29uZyBjaG8gaGV0IGRvaSB0aGFuaCB4dWFu\n",
            "SỐNG CHO HẾT ĐỜI THANH XUÂN 3 - BCTM x TNS | Part 1 | Video lyric\n",
            "/watch?v=xXIK9uO2Ge4&pp=ygUbc29uZyBjaG8gaGV0IGRvaSB0aGFuaCB4dWFu\n",
            "http://www.youtube.com/watch?v=xXIK9uO2Ge4&pp=ygUbc29uZyBjaG8gaGV0IGRvaSB0aGFuaCB4dWFu\n",
            "Sống cho hết đời thanh xuân - dick ft xám (Bài hát mà nhất định phải nghe khi trưởng thành).\n",
            "/watch?v=vTZftoX8neM&pp=ygUbc29uZyBjaG8gaGV0IGRvaSB0aGFuaCB4dWFu\n",
            "http://www.youtube.com/watch?v=vTZftoX8neM&pp=ygUbc29uZyBjaG8gaGV0IGRvaSB0aGFuaCB4dWFu\n",
            "[Gangz Style] Sống Cho Hết Đời Thanh Xuân - DICK #BCTM (Bạn Có Tài Mà team)|Rap acoustic\n",
            "/watch?v=LqRnbpifBsE&pp=ygUbc29uZyBjaG8gaGV0IGRvaSB0aGFuaCB4dWFu\n",
            "http://www.youtube.com/watch?v=LqRnbpifBsE&pp=ygUbc29uZyBjaG8gaGV0IGRvaSB0aGFuaCB4dWFu\n"
          ]
        }
      ]
    },
    {
      "cell_type": "code",
      "source": [
        "\n",
        "pip install SpeechRecognition pydub\n"
      ],
      "metadata": {
        "colab": {
          "base_uri": "https://localhost:8080/"
        },
        "id": "2n_Ik5dfEW4Q",
        "outputId": "34d700ac-f69c-4d09-95b4-68107382c08a"
      },
      "execution_count": 5,
      "outputs": [
        {
          "output_type": "stream",
          "name": "stdout",
          "text": [
            "Looking in indexes: https://pypi.org/simple, https://us-python.pkg.dev/colab-wheels/public/simple/\n",
            "Collecting SpeechRecognition\n",
            "  Downloading SpeechRecognition-3.10.0-py2.py3-none-any.whl (32.8 MB)\n",
            "\u001b[2K     \u001b[90m━━━━━━━━━━━━━━━━━━━━━━━━━━━━━━━━━━━━━━━━\u001b[0m \u001b[32m32.8/32.8 MB\u001b[0m \u001b[31m34.7 MB/s\u001b[0m eta \u001b[36m0:00:00\u001b[0m\n",
            "\u001b[?25hCollecting pydub\n",
            "  Downloading pydub-0.25.1-py2.py3-none-any.whl (32 kB)\n",
            "Requirement already satisfied: requests>=2.26.0 in /usr/local/lib/python3.9/dist-packages (from SpeechRecognition) (2.27.1)\n",
            "Requirement already satisfied: charset-normalizer~=2.0.0 in /usr/local/lib/python3.9/dist-packages (from requests>=2.26.0->SpeechRecognition) (2.0.12)\n",
            "Requirement already satisfied: certifi>=2017.4.17 in /usr/local/lib/python3.9/dist-packages (from requests>=2.26.0->SpeechRecognition) (2022.12.7)\n",
            "Requirement already satisfied: urllib3<1.27,>=1.21.1 in /usr/local/lib/python3.9/dist-packages (from requests>=2.26.0->SpeechRecognition) (1.26.15)\n",
            "Requirement already satisfied: idna<4,>=2.5 in /usr/local/lib/python3.9/dist-packages (from requests>=2.26.0->SpeechRecognition) (3.4)\n",
            "Installing collected packages: pydub, SpeechRecognition\n",
            "Successfully installed SpeechRecognition-3.10.0 pydub-0.25.1\n"
          ]
        }
      ]
    },
    {
      "cell_type": "code",
      "source": [
        "## Speech to Text\n",
        "file='/content/male.wav'\n",
        "import speech_recognition as sr\n",
        "r = sr.Recognizer()\n",
        "with sr.AudioFile(file) as source:\n",
        "  audio_data = r.record(source)\n",
        "  text= r.recognize_google(audio_data, language='ko-KR' ) # ko laf han , th laf thai , ja la nhat , vi la viet \n",
        "  print(text)"
      ],
      "metadata": {
        "colab": {
          "base_uri": "https://localhost:8080/"
        },
        "id": "lO-Jgk-6FV7-",
        "outputId": "2786805e-7caf-498d-aac8-0976de58907a"
      },
      "execution_count": 23,
      "outputs": [
        {
          "output_type": "stream",
          "name": "stdout",
          "text": [
            "playback stopped because too many videos belonging to the same way daly City California University tama campus applications using the reason to make the sentence with python graph showing another one bites the dust and mouth to music songs of content in this app has caused the relationship of users can Share House\n"
          ]
        }
      ]
    },
    {
      "cell_type": "code",
      "source": [
        "with sr.AudioFile('/content/3. Nha╠úc Tha╠üi Lan.wav') as source:\n",
        "  audio1 = r.record(source,duration= 4)\n",
        "  audio2 = r.record(source,offset=4 , duration= 10)\n",
        "print(r.recognize_google(audio1, language='vi-VI'))\n",
        "print(r.recognize_google(audio2, language='th-TH'))"
      ],
      "metadata": {
        "colab": {
          "base_uri": "https://localhost:8080/"
        },
        "id": "cJLbCqFCMxUC",
        "outputId": "1ec93010-4800-417d-875c-7cae7c74bca4"
      },
      "execution_count": 27,
      "outputs": [
        {
          "output_type": "stream",
          "name": "stdout",
          "text": [
            "bán gì chạy nhất\n",
            "เอาไปให้ไม่เลยยังไม่เคยจะไปหาใครๆใครก็อยากรู้\n"
          ]
        }
      ]
    }
  ]
}